{
 "cells": [
  {
   "cell_type": "markdown",
   "metadata": {
    "colab_type": "text",
    "id": "2gv2i9fNDvrg"
   },
   "source": [
    "## Part A: Subreddit Prediction ##"
   ]
  },
  {
   "cell_type": "code",
   "execution_count": 1,
   "metadata": {
    "colab": {},
    "colab_type": "code",
    "id": "ZG9BpbQt3-ko"
   },
   "outputs": [],
   "source": [
    "subreddit_train = \"coursework_subreddit_train.json\"\n",
    "subreddit_test = \"coursework_subreddit_test.json\"\n",
    "\n",
    "#!gsutil cp gs://textasdata/coursework/coursework_subreddit_train.json $subreddit_train \n",
    "#!gsutil cp gs://textasdata/coursework/coursework_subreddit_test.json  $subreddit_test"
   ]
  },
  {
   "cell_type": "code",
   "execution_count": 2,
   "metadata": {
    "colab": {},
    "colab_type": "code",
    "id": "iCEG8t6PC2f7"
   },
   "outputs": [
    {
     "name": "stdout",
     "output_type": "stream",
     "text": [
      "['is_self_post', 'posts', 'subreddit', 'title', 'url']\n",
      "   is_self_post                                              posts  \\\n",
      "0           1.0  [{'body': 'I think everyone has that one frien...   \n",
      "1           1.0  [{'body': 'I not 100% sure this is the right p...   \n",
      "2           1.0  [{'body': '', 'author': 'Leisure321', 'url': '...   \n",
      "3           1.0  [{'body': 'It's called 'forgetting things'.', ...   \n",
      "4           1.0  [{'body': 'How would I do this? I am looking t...   \n",
      "\n",
      "        subreddit                                              title  \\\n",
      "0   relationships  How do I [23F] communicate with my self-center...   \n",
      "1  summonerschool  What Cherry switch do you recommend for League...   \n",
      "2       askreddit                   Where do memes go when they die?   \n",
      "3           trees                     Some weird long term affects??   \n",
      "4        buildapc  Simple question: If I install Windows to a sta...   \n",
      "\n",
      "                                                 url  \n",
      "0  https://www.reddit.com/r/relationships/comment...  \n",
      "1  https://www.reddit.com/r/summonerschool/commen...  \n",
      "2  https://www.reddit.com/r/AskReddit/comments/4d...  \n",
      "3  https://www.reddit.com/r/trees/comments/1h300m...  \n",
      "4  https://www.reddit.com/r/buildapc/comments/jhb...  \n",
      "7280\n"
     ]
    }
   ],
   "source": [
    "import pandas as pd\n",
    "\n",
    "train_threads = pd.read_json(path_or_buf=subreddit_train, lines=True)\n",
    "print(list(train_threads.columns.values))\n",
    "print(train_threads.head())\n",
    "print(train_threads.size)"
   ]
  },
  {
   "cell_type": "code",
   "execution_count": 3,
   "metadata": {
    "colab": {},
    "colab_type": "code",
    "id": "89UU3g27C8SZ"
   },
   "outputs": [
    {
     "name": "stdout",
     "output_type": "stream",
     "text": [
      "   is_self_post                                              posts  \\\n",
      "0           1.0  [{'body': 'Was watching a VOD from last years ...   \n",
      "1           1.0  [{'body': 'Basically what the title says.', 'u...   \n",
      "2           1.0  [{'body': '', 'author': 'Daft-Punk', 'url': 'h...   \n",
      "3           1.0  [{'body': 'I start running this year. I do it ...   \n",
      "4           1.0  [{'body': '[deleted]', 'url': 'https://www.red...   \n",
      "\n",
      "       subreddit                                              title  \\\n",
      "0      starcraft  Just a reminder on how much SC2 has evolved th...   \n",
      "1    whowouldwin  Your Favorite Hero Now Has A Healing Factor As...   \n",
      "2      askreddit  If you could live anywhere in the world, where...   \n",
      "3      askreddit                   Do you ever get use to exercise?   \n",
      "4  tipofmytongue         [TOMT] [book] A scary french book for kids   \n",
      "\n",
      "                                                 url  \n",
      "0  https://www.reddit.com/r/starcraft/comments/mq...  \n",
      "1  https://www.reddit.com/r/whowouldwin/comments/...  \n",
      "2  https://www.reddit.com/r/AskReddit/comments/27...  \n",
      "3  https://www.reddit.com/r/AskReddit/comments/x9...  \n",
      "4  https://www.reddit.com/r/tipofmytongue/comment...  \n",
      "1825\n"
     ]
    }
   ],
   "source": [
    "test_threads = pd.read_json(path_or_buf=subreddit_test, lines=True)\n",
    "print(test_threads.head())\n",
    "print(test_threads.size)"
   ]
  },
  {
   "cell_type": "code",
   "execution_count": 4,
   "metadata": {
    "colab": {},
    "colab_type": "code",
    "id": "3Nl9qzazDQ_6"
   },
   "outputs": [
    {
     "name": "stdout",
     "output_type": "stream",
     "text": [
      "count     20.000000\n",
      "mean      72.800000\n",
      "std       73.368285\n",
      "min       28.000000\n",
      "25%       36.250000\n",
      "50%       45.500000\n",
      "75%       63.750000\n",
      "max      334.000000\n",
      "Name: subreddit, dtype: float64\n",
      "askreddit               334\n",
      "leagueoflegends         196\n",
      "buildapc                131\n",
      "explainlikeimfive        82\n",
      "trees                    66\n",
      "techsupport              63\n",
      "gaming                   62\n",
      "pcmasterrace             62\n",
      "electronic_cigarette     59\n",
      "relationships            48\n",
      "tipofmytongue            43\n",
      "hearthstone              38\n",
      "jailbreak                38\n",
      "summonerschool           37\n",
      "atheism                  37\n",
      "reddit.com               34\n",
      "movies                   33\n",
      "whowouldwin              33\n",
      "personalfinance          32\n",
      "starcraft                28\n",
      "Name: subreddit, dtype: int64\n"
     ]
    }
   ],
   "source": [
    "subreddit_counts = train_threads['subreddit'].value_counts()\n",
    "print(subreddit_counts.describe())\n",
    "top_subbreddits = subreddit_counts.nlargest(20)\n",
    "top_subbreddits_list = top_subbreddits.index.tolist()\n",
    "print(top_subbreddits)"
   ]
  },
  {
   "cell_type": "code",
   "execution_count": 5,
   "metadata": {
    "colab": {},
    "colab_type": "code",
    "id": "02OXNfo9H8Kc"
   },
   "outputs": [],
   "source": [
    "train_labels = train_threads['subreddit']\n",
    "test_labels = test_threads['subreddit']"
   ]
  },
  {
   "cell_type": "code",
   "execution_count": 6,
   "metadata": {},
   "outputs": [
    {
     "data": {
      "text/plain": [
       "('parser', <spacy.pipeline.DependencyParser at 0x7f0e2a0ec728>)"
      ]
     },
     "execution_count": 6,
     "metadata": {},
     "output_type": "execute_result"
    }
   ],
   "source": [
    "# Initialise nlp\n",
    "import spacy\n",
    "#!python -m spacy download en_core_web_md\n",
    "\n",
    "nlp = spacy.load('/usr/lib/python3.7/site-packages/en_core_web_md/en_core_web_md-2.0.0', disable=['ner'])\n",
    "nlp.remove_pipe('tagger')\n",
    "nlp.remove_pipe('parser')"
   ]
  },
  {
   "cell_type": "code",
   "execution_count": 7,
   "metadata": {},
   "outputs": [
    {
     "name": "stderr",
     "output_type": "stream",
     "text": [
      "[nltk_data] Downloading package stopwords to /home/stuart/nltk_data...\n",
      "[nltk_data]   Package stopwords is already up-to-date!\n"
     ]
    },
    {
     "data": {
      "text/plain": [
       "True"
      ]
     },
     "execution_count": 7,
     "metadata": {},
     "output_type": "execute_result"
    }
   ],
   "source": [
    "# Get Stopwords\n",
    "import nltk\n",
    "nltk.download('stopwords')"
   ]
  },
  {
   "cell_type": "code",
   "execution_count": 8,
   "metadata": {},
   "outputs": [],
   "source": [
    "# Define tokenizer and normalizer\n",
    "\n",
    "#@Tokenize\n",
    "def spacy_tokenize(string):\n",
    "    tokens = list()\n",
    "    doc = nlp(string)\n",
    "    for token in doc:\n",
    "        tokens.append(token)\n",
    "    return tokens\n",
    "\n",
    "#@Normalize\n",
    "def normalize(tokens):\n",
    "    normalized_tokens = list()\n",
    "    for token in tokens:\n",
    "        normalized = token.text.lower().strip()\n",
    "        if ((token.is_alpha or token.is_digit)):\n",
    "          normalized_tokens.append(normalized)\n",
    "    return normalized_tokens\n",
    "\n",
    "#@Tokenize and normalize\n",
    "def tokenize_normalize(string):\n",
    "    return normalize(spacy_tokenize(string))"
   ]
  },
  {
   "cell_type": "code",
   "execution_count": 9,
   "metadata": {},
   "outputs": [],
   "source": [
    "# Create vectorizers\n",
    "\n",
    "from sklearn.feature_extraction.text import CountVectorizer \n",
    "def one_hot_vectorizer(**kwargs):\n",
    "    return CountVectorizer(tokenizer=tokenize_normalize, binary=True, **kwargs)\n",
    "\n",
    "from sklearn.feature_extraction.text import TfidfVectorizer\n",
    "def tfidf_vectorizer(**kwargs):\n",
    "    return TfidfVectorizer(tokenizer=tokenize_normalize, **kwargs)"
   ]
  },
  {
   "cell_type": "code",
   "execution_count": 10,
   "metadata": {},
   "outputs": [],
   "source": [
    "# Create Classifiers\n",
    "\n",
    "from sklearn.dummy import DummyClassifier\n",
    "from sklearn.linear_model import LogisticRegression\n",
    "from sklearn.svm import SVC\n",
    "from sklearn.naive_bayes import BernoulliNB\n",
    "\n",
    "most_freq_class = DummyClassifier(strategy=\"most_frequent\")\n",
    "rand_class = DummyClassifier(strategy=\"stratified\")\n",
    "log_reg_class = LogisticRegression(solver=\"saga\")\n",
    "svc_class = SVC(kernel=\"rbf\")\n",
    "ber_nb_class = BernoulliNB() # Chosen classifier"
   ]
  },
  {
   "cell_type": "code",
   "execution_count": 11,
   "metadata": {},
   "outputs": [],
   "source": [
    "def expand_posts(threads):\n",
    "    \"\"\" Lines below explained in order:\n",
    "    Split posts column into new columns\n",
    "    Merge the back into train_threads\n",
    "    Drop the unexpanded posts\n",
    "    Transform the numeric rows from the split into separate rows\n",
    "    Remove variable column left from melt\n",
    "    Remove all rows with NaN\n",
    "    \"\"\"\n",
    "    expanded_posts = threads.posts.apply(pd.Series)\\\n",
    "    .merge(threads.rename(columns={'url': 'thread_url'}), left_index=True, right_index=True)\\\n",
    "    .drop([\"posts\"], axis=1)\\\n",
    "    .melt(id_vars=[\"is_self_post\", \"subreddit\", \"title\", \"thread_url\"], value_name=\"post\")\\\n",
    "    .drop(\"variable\", axis=1)\\\n",
    "    .dropna()\n",
    "\n",
    "    # Expand the post dictionary into columns and remove invalid posts\n",
    "    return pd.concat([\n",
    "        expanded_posts.drop(['post'], axis=1),\n",
    "        expanded_posts['post'].apply(pd.Series)\n",
    "    ], axis=1)\\\n",
    ".dropna(subset=['body', 'author'])"
   ]
  },
  {
   "cell_type": "code",
   "execution_count": 12,
   "metadata": {},
   "outputs": [],
   "source": [
    "# Restructure threads into posts\n",
    "train_posts = expand_posts(train_threads)\n",
    "test_posts = expand_posts(test_threads)"
   ]
  },
  {
   "cell_type": "code",
   "execution_count": 31,
   "metadata": {},
   "outputs": [],
   "source": [
    "def expand_body_title(threads):\n",
    "    return pd.concat([threads, threads.posts.apply(lambda posts: pd.Series(posts)\\\n",
    "                                             .map(lambda x: x['body'] if 'body' in x else '')\\\n",
    "                                             .str.cat(sep=' ')).rename(index='body'),\\\n",
    "                      threads.posts.apply(lambda posts: pd.Series(posts)\\\n",
    "                                             .map(lambda x: x['author'] if 'author' in x else '')\\\n",
    "                                             .str.cat(sep=' ')).rename(index='author')\\\n",
    "                     ],axis=1)\n",
    "\n",
    "train_threads_expand = expand_body_title(train_threads)\n",
    "test_threads_expand = expand_body_title(test_threads)"
   ]
  },
  {
   "cell_type": "code",
   "execution_count": 14,
   "metadata": {},
   "outputs": [],
   "source": [
    "from sklearn.base import BaseEstimator, TransformerMixin\n",
    "\n",
    "class ItemSelector(BaseEstimator, TransformerMixin):\n",
    "    \"\"\"For data grouped by feature, select subset of data at a provided key.    \"\"\"\n",
    "\n",
    "    def __init__(self, key):\n",
    "        self.key = key\n",
    "\n",
    "    def fit(self, x, y=None):\n",
    "        return self\n",
    "\n",
    "    def transform(self, data_dict):\n",
    "        return data_dict[self.key]\n",
    "    "
   ]
  },
  {
   "cell_type": "code",
   "execution_count": 15,
   "metadata": {},
   "outputs": [
    {
     "name": "stderr",
     "output_type": "stream",
     "text": [
      "/home/stuart/.local/lib/python3.7/site-packages/matplotlib/__init__.py:886: MatplotlibDeprecationWarning: \n",
      "examples.directory is deprecated; in the future, examples will be found relative to the 'datapath' directory.\n",
      "  \"found relative to the 'datapath' directory.\".format(key))\n"
     ]
    }
   ],
   "source": [
    "from sklearn.metrics import classification_report\n",
    "from sklearn.metrics import confusion_matrix\n",
    "from sklearn.metrics import precision_score\n",
    "from sklearn.metrics import recall_score\n",
    "from sklearn.metrics import accuracy_score\n",
    "from sklearn.metrics import fbeta_score\n",
    "import seaborn as sn\n",
    "import matplotlib.pyplot as plt\n",
    "\n",
    "def print_matrix(predictions, true_labels):\n",
    "    print(classification_report(predictions, true_labels, digits=3))\n",
    "    con_mat = confusion_matrix(true_labels, predictions)\n",
    "    df_con_mat = pd.DataFrame(con_mat, index=sorted(list(set(true_labels))), columns=sorted(list(set(true_labels))))\n",
    "    plt.figure()\n",
    "    sn.heatmap(df_con_mat, cmap='PuRd', annot=True, fmt='g')\n",
    "    plt.show()\n",
    "    \n",
    "def evaluation(predicts, true_labels):\n",
    "    best_f1 = -1\n",
    "    best_pred = None\n",
    "    \n",
    "    for (description, pred) in predicts.items():\n",
    "        print(\"Evaluation for: \" + description)\n",
    "        precision = precision_score(pred, true_labels, average='macro')\n",
    "        recall = recall_score(pred, true_labels, average='macro')\n",
    "        accuracy = accuracy_score(pred, true_labels)\n",
    "        f1 = fbeta_score(pred, true_labels, 1, average='macro') #1 means f_1 measure\n",
    "        print(\"Classifier '%s' has Acc=%0.3f P=%0.3f R=%0.3f F1=%0.3f\" % (description,accuracy,precision,recall,f1))\n",
    "        if f1 > best_f1:\n",
    "            best_f1 = f1\n",
    "            best_pred = pred\n",
    "            \n",
    "    print(\"Best Confusion Matrix\"),\n",
    "    print_matrix(best_pred, true_labels)"
   ]
  },
  {
   "cell_type": "code",
   "execution_count": 16,
   "metadata": {},
   "outputs": [],
   "source": [
    "from sklearn.pipeline import Pipeline, FeatureUnion \n",
    "one_hot_pipeline = Pipeline([\n",
    "    (\"union\", FeatureUnion([\n",
    "        (\"title\", Pipeline([\n",
    "            (\"select\", ItemSelector('title')),\n",
    "            (\"vec\", one_hot_vectorizer())\n",
    "        ])),\n",
    "        (\"body\", Pipeline([\n",
    "            (\"select\", ItemSelector('body')),\n",
    "            (\"vec\", one_hot_vectorizer())\n",
    "        ])),\n",
    "        (\"author\", Pipeline([\n",
    "            (\"select\", ItemSelector('author')),\n",
    "            (\"vec\", one_hot_vectorizer())\n",
    "        ])),\n",
    "    ]))\n",
    "])\n",
    "train_one_hot_features = one_hot_pipeline.fit_transform(train_threads_expand)\n",
    "test_one_hot_features = one_hot_pipeline.transform(test_threads_expand)"
   ]
  },
  {
   "cell_type": "code",
   "execution_count": 17,
   "metadata": {},
   "outputs": [],
   "source": [
    "tfidf_pipeline = Pipeline([\n",
    "    (\"union\", FeatureUnion([\n",
    "        (\"title\", Pipeline([\n",
    "            (\"select\", ItemSelector('title')),\n",
    "            (\"vec\", tfidf_vectorizer())\n",
    "        ])),\n",
    "        (\"body\", Pipeline([\n",
    "            (\"select\", ItemSelector('body')),\n",
    "            (\"vec\", tfidf_vectorizer())\n",
    "        ])),\n",
    "        (\"author\", Pipeline([\n",
    "            (\"select\", ItemSelector('author')),\n",
    "            (\"vec\", tfidf_vectorizer())\n",
    "        ])),\n",
    "    ]))\n",
    "])\n",
    "train_tfidf_features = tfidf_pipeline.fit_transform(train_threads_expand)\n",
    "test_tfidf_features = tfidf_pipeline.transform(test_threads_expand)"
   ]
  },
  {
   "cell_type": "code",
   "execution_count": 18,
   "metadata": {},
   "outputs": [
    {
     "name": "stderr",
     "output_type": "stream",
     "text": [
      "/usr/lib/python3.7/site-packages/sklearn/linear_model/logistic.py:460: FutureWarning: Default multi_class will be changed to 'auto' in 0.22. Specify the multi_class option to silence this warning.\n",
      "  \"this warning.\", FutureWarning)\n",
      "/usr/lib/python3.7/site-packages/sklearn/linear_model/sag.py:334: ConvergenceWarning: The max_iter was reached which means the coef_ did not converge\n",
      "  \"the coef_ did not converge\", ConvergenceWarning)\n",
      "/usr/lib/python3.7/site-packages/sklearn/svm/base.py:196: FutureWarning: The default value of gamma will change from 'auto' to 'scale' in version 0.22 to account better for unscaled features. Set gamma explicitly to 'auto' or 'scale' to avoid this warning.\n",
      "  \"avoid this warning.\", FutureWarning)\n"
     ]
    },
    {
     "name": "stdout",
     "output_type": "stream",
     "text": [
      "Evaluation for: One-Hot Most Freq\n",
      "Classifier 'One-Hot Most Freq' has Acc=0.230 P=0.050 R=0.012 F1=0.019\n",
      "Evaluation for: One-Hot Random\n",
      "Classifier 'One-Hot Random' has Acc=0.104 P=0.053 R=0.047 F1=0.049\n",
      "Evaluation for: One-Hot Logistic Regression\n",
      "Classifier 'One-Hot Logistic Regression' has Acc=0.693 P=0.585 R=0.723 F1=0.613\n",
      "Evaluation for: One-Hot SVC\n",
      "Classifier 'One-Hot SVC' has Acc=0.230 P=0.050 R=0.012 F1=0.019\n",
      "Evaluation for: One-Hot BernoulliNB\n",
      "Classifier 'One-Hot BernoulliNB' has Acc=0.304 P=0.085 R=0.069 F1=0.063\n",
      "Best Confusion Matrix\n",
      "                      precision    recall  f1-score   support\n",
      "\n",
      "           askreddit      0.929     0.672     0.780       116\n",
      "             atheism      0.500     0.857     0.632         7\n",
      "            buildapc      0.784     0.806     0.795        36\n",
      "electronic_cigarette      0.889     0.800     0.842        10\n",
      "   explainlikeimfive      0.786     0.611     0.688        18\n",
      "              gaming      0.471     0.421     0.444        19\n",
      "         hearthstone      0.467     1.000     0.636         7\n",
      "           jailbreak      0.545     0.750     0.632         8\n",
      "     leagueoflegends      0.896     0.581     0.705        74\n",
      "              movies      0.400     1.000     0.571         2\n",
      "        pcmasterrace      0.217     0.714     0.333         7\n",
      "     personalfinance      0.900     1.000     0.947         9\n",
      "          reddit.com      0.000     0.000     0.000         0\n",
      "       relationships      1.000     0.857     0.923         7\n",
      "           starcraft      0.000     0.000     0.000         0\n",
      "      summonerschool      0.333     1.000     0.500         2\n",
      "         techsupport      0.769     0.556     0.645        18\n",
      "       tipofmytongue      0.818     1.000     0.900         9\n",
      "               trees      0.500     0.833     0.625        12\n",
      "         whowouldwin      0.500     1.000     0.667         4\n",
      "\n",
      "           micro avg      0.693     0.693     0.693       365\n",
      "           macro avg      0.585     0.723     0.613       365\n",
      "        weighted avg      0.802     0.693     0.723       365\n",
      "\n"
     ]
    },
    {
     "name": "stderr",
     "output_type": "stream",
     "text": [
      "/usr/lib/python3.7/site-packages/sklearn/metrics/classification.py:1145: UndefinedMetricWarning: Recall is ill-defined and being set to 0.0 in labels with no true samples.\n",
      "  'recall', 'true', average, warn_for)\n",
      "/usr/lib/python3.7/site-packages/sklearn/metrics/classification.py:1145: UndefinedMetricWarning: F-score is ill-defined and being set to 0.0 in labels with no true samples.\n",
      "  'recall', 'true', average, warn_for)\n",
      "/usr/lib/python3.7/site-packages/sklearn/metrics/classification.py:1145: UndefinedMetricWarning: Recall and F-score are ill-defined and being set to 0.0 in labels with no true samples.\n",
      "  'recall', 'true', average, warn_for)\n"
     ]
    },
    {
     "data": {
      "image/png": "[encoded data removed]",
      "text/plain": [
       "<Figure size 432x288 with 2 Axes>"
      ]
     },
     "metadata": {
      "needs_background": "light"
     },
     "output_type": "display_data"
    }
   ],
   "source": [
    "most_freq_class.fit(train_one_hot_features, train_threads_expand['subreddit'])\n",
    "rand_class.fit(train_one_hot_features, train_threads_expand['subreddit'])\n",
    "log_reg_class.fit(train_one_hot_features, train_threads_expand['subreddit'])\n",
    "svc_class.fit(train_one_hot_features, train_threads_expand['subreddit'])\n",
    "ber_nb_class.fit(train_one_hot_features, train_threads_expand['subreddit'])\n",
    "\n",
    "predicts = {}\n",
    "predicts['One-Hot Most Freq'] = most_freq_class.predict(test_one_hot_features)\n",
    "predicts['One-Hot Random'] = rand_class.predict(test_one_hot_features)\n",
    "predicts['One-Hot Logistic Regression'] = log_reg_class.predict(test_one_hot_features)\n",
    "predicts['One-Hot SVC'] = svc_class.predict(test_one_hot_features)\n",
    "predicts['One-Hot BernoulliNB'] = ber_nb_class.predict(test_one_hot_features)\n",
    "\n",
    "evaluation(predicts, test_threads_expand['subreddit'])"
   ]
  },
  {
   "cell_type": "code",
   "execution_count": 19,
   "metadata": {},
   "outputs": [
    {
     "name": "stderr",
     "output_type": "stream",
     "text": [
      "/usr/lib/python3.7/site-packages/sklearn/linear_model/logistic.py:460: FutureWarning: Default multi_class will be changed to 'auto' in 0.22. Specify the multi_class option to silence this warning.\n",
      "  \"this warning.\", FutureWarning)\n",
      "/usr/lib/python3.7/site-packages/sklearn/linear_model/sag.py:334: ConvergenceWarning: The max_iter was reached which means the coef_ did not converge\n",
      "  \"the coef_ did not converge\", ConvergenceWarning)\n",
      "/usr/lib/python3.7/site-packages/sklearn/svm/base.py:196: FutureWarning: The default value of gamma will change from 'auto' to 'scale' in version 0.22 to account better for unscaled features. Set gamma explicitly to 'auto' or 'scale' to avoid this warning.\n",
      "  \"avoid this warning.\", FutureWarning)\n"
     ]
    },
    {
     "name": "stdout",
     "output_type": "stream",
     "text": [
      "Evaluation for: One-Hot Most Freq\n",
      "Classifier 'One-Hot Most Freq' has Acc=0.230 P=0.050 R=0.012 F1=0.019\n",
      "Evaluation for: One-Hot Random\n",
      "Classifier 'One-Hot Random' has Acc=0.110 P=0.042 R=0.048 F1=0.044\n",
      "Evaluation for: One-Hot Logistic Regression\n",
      "Classifier 'One-Hot Logistic Regression' has Acc=0.575 P=0.389 R=0.658 F1=0.423\n",
      "Evaluation for: One-Hot SVC\n",
      "Classifier 'One-Hot SVC' has Acc=0.230 P=0.050 R=0.012 F1=0.019\n",
      "Evaluation for: One-Hot BernoulliNB\n",
      "Classifier 'One-Hot BernoulliNB' has Acc=0.304 P=0.085 R=0.069 F1=0.063\n",
      "Best Confusion Matrix\n",
      "                      precision    recall  f1-score   support\n",
      "\n",
      "           askreddit      0.952     0.457     0.618       175\n",
      "             atheism      0.083     1.000     0.154         1\n",
      "            buildapc      0.838     0.816     0.827        38\n",
      "electronic_cigarette      0.667     0.857     0.750         7\n",
      "   explainlikeimfive      0.429     0.750     0.545         8\n",
      "              gaming      0.118     0.400     0.182         5\n",
      "         hearthstone      0.133     1.000     0.235         2\n",
      "           jailbreak      0.273     1.000     0.429         3\n",
      "     leagueoflegends      0.854     0.494     0.626        83\n",
      "              movies      0.000     0.000     0.000         0\n",
      "        pcmasterrace      0.217     0.714     0.333         7\n",
      "     personalfinance      0.700     1.000     0.824         7\n",
      "          reddit.com      0.000     0.000     0.000         0\n",
      "       relationships      1.000     1.000     1.000         6\n",
      "           starcraft      0.000     0.000     0.000         0\n",
      "      summonerschool      0.000     0.000     0.000         0\n",
      "         techsupport      0.769     0.833     0.800        12\n",
      "       tipofmytongue      0.364     1.000     0.533         4\n",
      "               trees      0.250     0.833     0.385         6\n",
      "         whowouldwin      0.125     1.000     0.222         1\n",
      "\n",
      "           micro avg      0.575     0.575     0.575       365\n",
      "           macro avg      0.389     0.658     0.423       365\n",
      "        weighted avg      0.833     0.575     0.636       365\n",
      "\n"
     ]
    },
    {
     "name": "stderr",
     "output_type": "stream",
     "text": [
      "/usr/lib/python3.7/site-packages/sklearn/metrics/classification.py:1145: UndefinedMetricWarning: Recall is ill-defined and being set to 0.0 in labels with no true samples.\n",
      "  'recall', 'true', average, warn_for)\n",
      "/usr/lib/python3.7/site-packages/sklearn/metrics/classification.py:1145: UndefinedMetricWarning: F-score is ill-defined and being set to 0.0 in labels with no true samples.\n",
      "  'recall', 'true', average, warn_for)\n",
      "/usr/lib/python3.7/site-packages/sklearn/metrics/classification.py:1145: UndefinedMetricWarning: Recall and F-score are ill-defined and being set to 0.0 in labels with no true samples.\n",
      "  'recall', 'true', average, warn_for)\n"
     ]
    },
    {
     "data": {
      "image/png": "[encoded data removed]",
      "text/plain": [
       "<Figure size 432x288 with 2 Axes>"
      ]
     },
     "metadata": {
      "needs_background": "light"
     },
     "output_type": "display_data"
    }
   ],
   "source": [
    "most_freq_class.fit(train_tfidf_features, train_threads_expand['subreddit'])\n",
    "rand_class.fit(train_tfidf_features, train_threads_expand['subreddit'])\n",
    "log_reg_class.fit(train_tfidf_features, train_threads_expand['subreddit'])\n",
    "svc_class.fit(train_tfidf_features, train_threads_expand['subreddit'])\n",
    "ber_nb_class.fit(train_tfidf_features, train_threads_expand['subreddit'])\n",
    "\n",
    "predicts = {}\n",
    "predicts['One-Hot Most Freq'] = most_freq_class.predict(test_tfidf_features)\n",
    "predicts['One-Hot Random'] = rand_class.predict(test_tfidf_features)\n",
    "predicts['One-Hot Logistic Regression'] = log_reg_class.predict(test_tfidf_features)\n",
    "predicts['One-Hot SVC'] = svc_class.predict(test_tfidf_features)\n",
    "predicts['One-Hot BernoulliNB'] = ber_nb_class.predict(test_tfidf_features)\n",
    "\n",
    "evaluation(predicts, test_threads_expand['subreddit'])"
   ]
  },
  {
   "cell_type": "code",
   "execution_count": 34,
   "metadata": {},
   "outputs": [
    {
     "name": "stderr",
     "output_type": "stream",
     "text": [
      "/usr/lib/python3.7/site-packages/sklearn/linear_model/logistic.py:460: FutureWarning: Default multi_class will be changed to 'auto' in 0.22. Specify the multi_class option to silence this warning.\n",
      "  \"this warning.\", FutureWarning)\n",
      "/usr/lib/python3.7/site-packages/sklearn/linear_model/sag.py:334: ConvergenceWarning: The max_iter was reached which means the coef_ did not converge\n",
      "  \"the coef_ did not converge\", ConvergenceWarning)\n",
      "/usr/lib/python3.7/site-packages/sklearn/metrics/classification.py:1143: UndefinedMetricWarning: F-score is ill-defined and being set to 0.0 in labels with no predicted samples.\n",
      "  'precision', 'predicted', average, warn_for)\n"
     ]
    },
    {
     "ename": "AttributeError",
     "evalue": "'LogisticRegression' object has no attribute 'transform'",
     "output_type": "error",
     "traceback": [
      "\u001b[0;31m---------------------------------------------------------------------------\u001b[0m",
      "\u001b[0;31mAttributeError\u001b[0m                            Traceback (most recent call last)",
      "\u001b[0;32m<ipython-input-34-599d59e5ee88>\u001b[0m in \u001b[0;36m<module>\u001b[0;34m\u001b[0m\n\u001b[1;32m     22\u001b[0m \u001b[0mcv_tfidf\u001b[0m \u001b[0;34m=\u001b[0m \u001b[0mRandomizedSearchCV\u001b[0m\u001b[0;34m(\u001b[0m\u001b[0mcv_pipeline\u001b[0m\u001b[0;34m,\u001b[0m \u001b[0mtfidf_params\u001b[0m\u001b[0;34m,\u001b[0m \u001b[0mn_jobs\u001b[0m\u001b[0;34m=\u001b[0m\u001b[0;36m1\u001b[0m\u001b[0;34m,\u001b[0m \u001b[0mscoring\u001b[0m\u001b[0;34m=\u001b[0m\u001b[0mmake_scorer\u001b[0m\u001b[0;34m(\u001b[0m\u001b[0mf1_score\u001b[0m\u001b[0;34m,\u001b[0m \u001b[0maverage\u001b[0m\u001b[0;34m=\u001b[0m\u001b[0;34m'macro'\u001b[0m\u001b[0;34m)\u001b[0m\u001b[0;34m,\u001b[0m \u001b[0mcv\u001b[0m\u001b[0;34m=\u001b[0m\u001b[0;36m2\u001b[0m\u001b[0;34m)\u001b[0m\u001b[0;34m\u001b[0m\u001b[0;34m\u001b[0m\u001b[0m\n\u001b[1;32m     23\u001b[0m \u001b[0mcv_tfidf\u001b[0m\u001b[0;34m.\u001b[0m\u001b[0mfit\u001b[0m\u001b[0;34m(\u001b[0m\u001b[0mtrain_threads_expand\u001b[0m\u001b[0;34m,\u001b[0m \u001b[0mtrain_threads_expand\u001b[0m\u001b[0;34m[\u001b[0m\u001b[0;34m'subreddit'\u001b[0m\u001b[0;34m]\u001b[0m\u001b[0;34m)\u001b[0m\u001b[0;34m\u001b[0m\u001b[0;34m\u001b[0m\u001b[0m\n\u001b[0;32m---> 24\u001b[0;31m \u001b[0mtest_threads_cv_features\u001b[0m \u001b[0;34m=\u001b[0m \u001b[0mcv_tfidf\u001b[0m\u001b[0;34m.\u001b[0m\u001b[0mtransform\u001b[0m\u001b[0;34m(\u001b[0m\u001b[0mtest_threads_expand\u001b[0m\u001b[0;34m)\u001b[0m\u001b[0;34m\u001b[0m\u001b[0;34m\u001b[0m\u001b[0m\n\u001b[0m\u001b[1;32m     25\u001b[0m \u001b[0mevaluation\u001b[0m\u001b[0;34m(\u001b[0m\u001b[0;34m{\u001b[0m\u001b[0;34m'CV TF-IDF Log-Reg'\u001b[0m\u001b[0;34m,\u001b[0m \u001b[0mlog_reg_class\u001b[0m\u001b[0;34m.\u001b[0m\u001b[0mpredict\u001b[0m\u001b[0;34m(\u001b[0m\u001b[0mtest_threads_cv_features\u001b[0m\u001b[0;34m)\u001b[0m\u001b[0;34m}\u001b[0m\u001b[0;34m,\u001b[0m \u001b[0mtest_threads_expand\u001b[0m\u001b[0;34m[\u001b[0m\u001b[0;34m'subreddit'\u001b[0m\u001b[0;34m]\u001b[0m\u001b[0;34m)\u001b[0m\u001b[0;34m\u001b[0m\u001b[0;34m\u001b[0m\u001b[0m\n",
      "\u001b[0;32m/usr/lib/python3.7/site-packages/sklearn/utils/metaestimators.py\u001b[0m in \u001b[0;36m__get__\u001b[0;34m(self, obj, type)\u001b[0m\n\u001b[1;32m    110\u001b[0m                     \u001b[0;32mcontinue\u001b[0m\u001b[0;34m\u001b[0m\u001b[0;34m\u001b[0m\u001b[0m\n\u001b[1;32m    111\u001b[0m                 \u001b[0;32melse\u001b[0m\u001b[0;34m:\u001b[0m\u001b[0;34m\u001b[0m\u001b[0;34m\u001b[0m\u001b[0m\n\u001b[0;32m--> 112\u001b[0;31m                     \u001b[0mgetattr\u001b[0m\u001b[0;34m(\u001b[0m\u001b[0mdelegate\u001b[0m\u001b[0;34m,\u001b[0m \u001b[0mself\u001b[0m\u001b[0;34m.\u001b[0m\u001b[0mattribute_name\u001b[0m\u001b[0;34m)\u001b[0m\u001b[0;34m\u001b[0m\u001b[0;34m\u001b[0m\u001b[0m\n\u001b[0m\u001b[1;32m    113\u001b[0m                     \u001b[0;32mbreak\u001b[0m\u001b[0;34m\u001b[0m\u001b[0;34m\u001b[0m\u001b[0m\n\u001b[1;32m    114\u001b[0m             \u001b[0;32melse\u001b[0m\u001b[0;34m:\u001b[0m\u001b[0;34m\u001b[0m\u001b[0;34m\u001b[0m\u001b[0m\n",
      "\u001b[0;32m/usr/lib/python3.7/site-packages/sklearn/pipeline.py\u001b[0m in \u001b[0;36mtransform\u001b[0;34m(self)\u001b[0m\n\u001b[1;32m    442\u001b[0m         \u001b[0;31m# XXX: Handling the None case means we can't use if_delegate_has_method\u001b[0m\u001b[0;34m\u001b[0m\u001b[0;34m\u001b[0m\u001b[0;34m\u001b[0m\u001b[0m\n\u001b[1;32m    443\u001b[0m         \u001b[0;32mif\u001b[0m \u001b[0mself\u001b[0m\u001b[0;34m.\u001b[0m\u001b[0m_final_estimator\u001b[0m \u001b[0;32mis\u001b[0m \u001b[0;32mnot\u001b[0m \u001b[0;32mNone\u001b[0m\u001b[0;34m:\u001b[0m\u001b[0;34m\u001b[0m\u001b[0;34m\u001b[0m\u001b[0m\n\u001b[0;32m--> 444\u001b[0;31m             \u001b[0mself\u001b[0m\u001b[0;34m.\u001b[0m\u001b[0m_final_estimator\u001b[0m\u001b[0;34m.\u001b[0m\u001b[0mtransform\u001b[0m\u001b[0;34m\u001b[0m\u001b[0;34m\u001b[0m\u001b[0m\n\u001b[0m\u001b[1;32m    445\u001b[0m         \u001b[0;32mreturn\u001b[0m \u001b[0mself\u001b[0m\u001b[0;34m.\u001b[0m\u001b[0m_transform\u001b[0m\u001b[0;34m\u001b[0m\u001b[0;34m\u001b[0m\u001b[0m\n\u001b[1;32m    446\u001b[0m \u001b[0;34m\u001b[0m\u001b[0m\n",
      "\u001b[0;31mAttributeError\u001b[0m: 'LogisticRegression' object has no attribute 'transform'"
     ]
    }
   ],
   "source": [
    "from sklearn.model_selection import RandomizedSearchCV\n",
    "from sklearn.metrics import f1_score, make_scorer\n",
    "from scipy import stats\n",
    "\n",
    "cv_pipeline = Pipeline([\n",
    "    ('tfidf', tfidf_pipeline),\n",
    "    ('class', LogisticRegression(solver=\"saga\"))\n",
    "])\n",
    "\n",
    "tfidf_params = {\n",
    "    'tfidf__union__title__vec__sublinear_tf': stats.randint(0, 1),\n",
    "    #'tfidf__union__title__vec__ngram_range': stats.randint(1, 3),\n",
    "    'tfidf__union__title__vec__max_features': stats.randint(0, 50000),\n",
    "    'tfidf__union__body__vec__sublinear_tf': stats.randint(0, 1),\n",
    "    #'tfidf__union__body__vec__ngram_range': stats.randint(1, 3),\n",
    "    'tfidf__union__body__vec__max_features': stats.randint(0, 50000),\n",
    "    'tfidf__union__author__vec__sublinear_tf': stats.randint(0, 1),\n",
    "    #'tfidf__union__author__vec__ngram_range': stats.randint(1, 3),\n",
    "    'tfidf__union__author__vec__max_features': stats.randint(0, 50000),\n",
    "}\n",
    "\n",
    "cv_tfidf = RandomizedSearchCV(cv_pipeline, tfidf_params, n_jobs=1, scoring=make_scorer(f1_score, average='macro'), cv=2)\n",
    "cv_tfidf.fit(train_threads_expand, train_threads_expand['subreddit'])\n",
    "test_threads_cv_features = cv_tfidf.transform(test_threads_expand)\n",
    "evaluation({'CV TF-IDF Log-Reg', log_reg_class.predict(test_threads_cv_features)}, test_threads_expand['subreddit'])"
   ]
  },
  {
   "cell_type": "markdown",
   "metadata": {
    "colab_type": "text",
    "id": "D-G938e8D5qn"
   },
   "source": [
    "## Part B: Discourse prediction ##"
   ]
  },
  {
   "cell_type": "code",
   "execution_count": null,
   "metadata": {
    "colab": {},
    "colab_type": "code",
    "id": "9KM6aJtSETPY"
   },
   "outputs": [],
   "source": [
    "discourse_train = \"coursework_discourse_train.json\"\n",
    "discourse_test = \"coursework_discourse_test.json\"\n",
    "  \n",
    "!gsutil cp gs://textasdata/coursework/coursework_discourse_train.json $discourse_train  \n",
    "!gsutil cp gs://textasdata/coursework/coursework_discourse_test.json  $discourse_test"
   ]
  },
  {
   "cell_type": "code",
   "execution_count": null,
   "metadata": {
    "colab": {},
    "colab_type": "code",
    "id": "pwOaf_6aD-Vh"
   },
   "outputs": [],
   "source": [
    "# The reddit thread structure is nested with posts in a new content.\n",
    "# This block reads the file as json and creates a new data frame.\n",
    "import pandas as pd\n",
    "import json\n",
    "\n",
    "def load_posts(file):\n",
    "  # A temporary variable to store the list of post content.\n",
    "  posts_tmp = list()\n",
    "\n",
    "  with open(file) as jsonfile:\n",
    "    for i, line in enumerate(jsonfile):\n",
    "     # if (i > 2): break\n",
    "      thread = json.loads(line)\n",
    "      for post in thread['posts']:\n",
    "        # NOTE: This could be changed to use additional features from the post or thread.\n",
    "        # DO NOT change the labels for the test set.\n",
    "        posts_tmp.append((thread['subreddit'], thread['title'], thread['url'],\n",
    "                        post['id'], post.get('author', \"\"), post.get('body', \"\"), post.get(\"majority_link\", \"\"), \n",
    "                        post.get('post_depth', 0), post.get('majority_type', \"\"), # discourse type label \n",
    "                        post.get('in_reply_to', \"\") ))\n",
    "\n",
    "# Create the posts data frame.  \n",
    "  labels = ['subreddit', 'title', 'url', 'id', 'author', 'body', 'majority_link', \n",
    "          'post_depth', 'discourse_type', 'in_reply_to']\n",
    "  return pd.DataFrame(posts_tmp, columns=labels)"
   ]
  },
  {
   "cell_type": "code",
   "execution_count": null,
   "metadata": {
    "colab": {},
    "colab_type": "code",
    "id": "PDzHTDcmEQ11"
   },
   "outputs": [],
   "source": [
    "train_posts = load_posts(discourse_train)\n",
    "# Filter out empty labels\n",
    "train_posts = train_posts[train_posts['discourse_type'] != \"\"]\n",
    "print(train_posts.head())\n",
    "print(\"Num posts: \", train_posts.size)"
   ]
  },
  {
   "cell_type": "markdown",
   "metadata": {
    "colab_type": "text",
    "id": "dqGLzyTOGadY"
   },
   "source": [
    "The label for the post we will be predicting is in the discourse_type column."
   ]
  },
  {
   "cell_type": "code",
   "execution_count": null,
   "metadata": {
    "colab": {},
    "colab_type": "code",
    "id": "7vvo7hfCEmvj"
   },
   "outputs": [],
   "source": [
    "test_posts = load_posts(discourse_test)\n",
    "# Filter out empty labels\n",
    "test_posts = test_posts[test_posts['discourse_type'] != \"\"]\n",
    "print(\"Num posts: \", test_posts.size)\n"
   ]
  },
  {
   "cell_type": "code",
   "execution_count": null,
   "metadata": {
    "colab": {},
    "colab_type": "code",
    "id": "Jat55HhNHGBp"
   },
   "outputs": [],
   "source": [
    "train_labels = train_posts['discourse_type']\n",
    "test_labels = test_posts['discourse_type']"
   ]
  },
  {
   "cell_type": "markdown",
   "metadata": {
    "colab_type": "text",
    "id": "rFl6sM58HNFp"
   },
   "source": [
    "Examine the distribution over labels on the training data."
   ]
  },
  {
   "cell_type": "code",
   "execution_count": null,
   "metadata": {
    "colab": {},
    "colab_type": "code",
    "id": "n3NbLPBhFOkp"
   },
   "outputs": [],
   "source": [
    "discourse_counts = train_labels.value_counts()\n",
    "print(discourse_counts.describe())\n",
    "\n",
    "top_discourse = discourse_counts.nlargest(200)\n",
    "print(top_discourse)\n",
    "top_discourse = top_discourse.index.tolist()\n",
    "print(top_discourse)"
   ]
  },
  {
   "cell_type": "code",
   "execution_count": null,
   "metadata": {
    "colab": {},
    "colab_type": "code",
    "id": "pbVa1fkZGHVQ"
   },
   "outputs": [],
   "source": [
    "# Define the features\n",
    "X_train = #features from training data\n",
    "X_test = #features from test data\n",
    "\n",
    "from sklearn.dummy import DummyClassifier\n",
    "clf = DummyClassifier(strategy='stratified',random_state=0)\n",
    "clf.fit(X_train, train_posts['discourse_type'])\n",
    "predictions = clf.predict(X_test)  \n",
    "print(classification_report(predictions, test_posts['discourse_type']))"
   ]
  }
 ],
 "metadata": {
  "colab": {
   "name": "Coursework skeleton.ipynb",
   "provenance": [],
   "version": "0.3.2"
  },
  "kernelspec": {
   "display_name": "Python 3",
   "language": "python",
   "name": "python3"
  },
  "language_info": {
   "codemirror_mode": {
    "name": "ipython",
    "version": 3
   },
   "file_extension": ".py",
   "mimetype": "text/x-python",
   "name": "python",
   "nbconvert_exporter": "python",
   "pygments_lexer": "ipython3",
   "version": "3.7.2"
  }
 },
 "nbformat": 4,
 "nbformat_minor": 1
}
